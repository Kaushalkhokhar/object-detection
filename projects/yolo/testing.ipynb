{
 "cells": [
  {
   "cell_type": "code",
   "execution_count": 1,
   "id": "61ecd96c",
   "metadata": {},
   "outputs": [],
   "source": [
    "from ast import Lambda\n",
    "import tensorflow as tf\n",
    "import json\n",
    "\n",
    "import os\n",
    "import numpy as np\n",
    "import cv2\n",
    "import tensorflow_datasets as tfds\n",
    "import matplotlib.pyplot as plt"
   ]
  },
  {
   "cell_type": "code",
   "execution_count": 2,
   "id": "f7c71040",
   "metadata": {},
   "outputs": [],
   "source": [
    "yolo_anchors = np.array([(10, 13), (16, 30), (33, 23), (30, 61), (62, 45),\n",
    "                         (59, 119), (116, 90), (156, 198), (373, 326)],\n",
    "                        np.float32) / (10, 13)"
   ]
  },
  {
   "cell_type": "code",
   "execution_count": 3,
   "id": "f58a79cf",
   "metadata": {},
   "outputs": [
    {
     "data": {
      "text/plain": [
       "array([[ 1.        ,  1.        ],\n",
       "       [ 1.6       ,  2.30769231],\n",
       "       [ 3.3       ,  1.76923077],\n",
       "       [ 3.        ,  4.69230769],\n",
       "       [ 6.2       ,  3.46153846],\n",
       "       [ 5.9       ,  9.15384615],\n",
       "       [11.6       ,  6.92307692],\n",
       "       [15.6       , 15.23076923],\n",
       "       [37.3       , 25.07692308]])"
      ]
     },
     "execution_count": 3,
     "metadata": {},
     "output_type": "execute_result"
    }
   ],
   "source": [
    "yolo_anchors"
   ]
  },
  {
   "cell_type": "code",
   "execution_count": 108,
   "id": "3b94bf43",
   "metadata": {},
   "outputs": [
    {
     "data": {
      "text/plain": [
       "<tf.Tensor: shape=(5,), dtype=int32, numpy=array([1, 2, 3, 4, 9])>"
      ]
     },
     "execution_count": 108,
     "metadata": {},
     "output_type": "execute_result"
    }
   ],
   "source": [
    "t = tf.constant([1, 2, 3, 4, 9])\n",
    "t"
   ]
  },
  {
   "cell_type": "code",
   "execution_count": 109,
   "id": "e990e73c",
   "metadata": {},
   "outputs": [
    {
     "data": {
      "text/plain": [
       "(<tf.Tensor: shape=(2,), dtype=int32, numpy=array([1, 2])>,\n",
       " <tf.Tensor: shape=(2,), dtype=int32, numpy=array([3, 4])>,\n",
       " <tf.Tensor: shape=(1,), dtype=int32, numpy=array([9])>)"
      ]
     },
     "execution_count": 109,
     "metadata": {},
     "output_type": "execute_result"
    }
   ],
   "source": [
    "t12, t34, classes = tf.split(t, (2, 2, 1), -1)\n",
    "t12, t34, classes"
   ]
  },
  {
   "cell_type": "code",
   "execution_count": 110,
   "id": "5e93093e",
   "metadata": {},
   "outputs": [
    {
     "data": {
      "text/plain": [
       "<tf.Tensor: shape=(2,), dtype=int32, numpy=array([1, 2])>"
      ]
     },
     "execution_count": 110,
     "metadata": {},
     "output_type": "execute_result"
    }
   ],
   "source": [
    "t[..., 0:2]"
   ]
  },
  {
   "cell_type": "code",
   "execution_count": 111,
   "id": "d8be8881",
   "metadata": {},
   "outputs": [
    {
     "data": {
      "text/plain": [
       "<tf.Tensor: shape=(2,), dtype=int32, numpy=array([2, 1])>"
      ]
     },
     "execution_count": 111,
     "metadata": {},
     "output_type": "execute_result"
    }
   ],
   "source": [
    "t12 = tf.reverse(t[..., 0:2], axis=(-1,))\n",
    "t12"
   ]
  },
  {
   "cell_type": "code",
   "execution_count": 112,
   "id": "f70b21d5",
   "metadata": {},
   "outputs": [
    {
     "data": {
      "text/plain": [
       "<tf.Tensor: shape=(2,), dtype=int32, numpy=array([4, 3])>"
      ]
     },
     "execution_count": 112,
     "metadata": {},
     "output_type": "execute_result"
    }
   ],
   "source": [
    "t34 = tf.reverse(t[..., 2:4], axis=(-1, ))\n",
    "t34"
   ]
  },
  {
   "cell_type": "code",
   "execution_count": 113,
   "id": "0c415435",
   "metadata": {},
   "outputs": [
    {
     "data": {
      "text/plain": [
       "<tf.Tensor: shape=(1,), dtype=int32, numpy=array([9])>"
      ]
     },
     "execution_count": 113,
     "metadata": {},
     "output_type": "execute_result"
    }
   ],
   "source": [
    "t[..., -1:]"
   ]
  },
  {
   "cell_type": "code",
   "execution_count": 114,
   "id": "2d43d0f3",
   "metadata": {},
   "outputs": [
    {
     "data": {
      "text/plain": [
       "<tf.Tensor: shape=(5,), dtype=int32, numpy=array([2, 1, 4, 3, 9])>"
      ]
     },
     "execution_count": 114,
     "metadata": {},
     "output_type": "execute_result"
    }
   ],
   "source": [
    "t = tf.concat([t12, t34, t[..., -1:]], axis=-1)\n",
    "t"
   ]
  },
  {
   "cell_type": "code",
   "execution_count": null,
   "id": "ede08aaf",
   "metadata": {},
   "outputs": [],
   "source": []
  },
  {
   "cell_type": "code",
   "execution_count": null,
   "id": "165c4c64",
   "metadata": {},
   "outputs": [],
   "source": []
  },
  {
   "cell_type": "code",
   "execution_count": null,
   "id": "ed9f7ba8",
   "metadata": {},
   "outputs": [],
   "source": []
  }
 ],
 "metadata": {
  "kernelspec": {
   "display_name": "Python 3 (ipykernel)",
   "language": "python",
   "name": "python3"
  },
  "language_info": {
   "codemirror_mode": {
    "name": "ipython",
    "version": 3
   },
   "file_extension": ".py",
   "mimetype": "text/x-python",
   "name": "python",
   "nbconvert_exporter": "python",
   "pygments_lexer": "ipython3",
   "version": "3.9.9"
  }
 },
 "nbformat": 4,
 "nbformat_minor": 5
}
